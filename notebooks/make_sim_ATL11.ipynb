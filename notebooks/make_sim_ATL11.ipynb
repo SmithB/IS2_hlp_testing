{
 "cells": [
  {
   "cell_type": "code",
   "execution_count": 9,
   "id": "bfcf557c-20c3-4be2-a977-a2cd58e730ad",
   "metadata": {},
   "outputs": [],
   "source": [
    "import numpy as np\n",
    "import pointCollection as pc\n",
    "import matplotlib.pyplot as plt\n",
    "import ATL11"
   ]
  },
  {
   "cell_type": "code",
   "execution_count": 2,
   "id": "e5a014dd-6a3c-4e55-882e-66b5a257a1b8",
   "metadata": {},
   "outputs": [],
   "source": [
    "data=pc.data().from_h5('/Users/ben/temp/sim_ALT06_data_with_errors.h5')"
   ]
  },
  {
   "cell_type": "code",
   "execution_count": 3,
   "id": "c4d63e88-5ffd-4cbf-99e9-9b8048a9b4c8",
   "metadata": {},
   "outputs": [],
   "source": [
    "def to_pc(D11):\n",
    "    D=D11.ROOT\n",
    "    N_pts = len(D.latitude)\n",
    "    N_cycles = len(D.cycle_number)\n",
    "    cycles = np.array(D.cycle_number)\n",
    "    D_out = pc.data(columns=N_cycles).from_dict({pair_num:np.zeros((N_pts, N_cycles))+D11.pair_num})\n",
    "    for field in set(D.list_of_fields):\n",
    "        \n",
    "        if field=='cycle_number':\n",
    "            D_out.assign(cycle=np.tile(cycles[None,:], [N_pts,1]))\n",
    "            continue\n",
    "        if field.ndim==2:\n",
    "            D_out.assign({field:getattr(D, field)})\n",
    "            continue\n",
    "        if field.shape == (N_pts,):\n",
    "            D_out.assign({field:np.title(field[:, None], [1, N_cycles])})\n",
    "    D_out.__update_size_and_shape__()\n",
    "    return D_out\n"
   ]
  },
  {
   "cell_type": "code",
   "execution_count": 4,
   "id": "32756071-92fa-4b64-9af2-ce89e738fdb8",
   "metadata": {},
   "outputs": [],
   "source": [
    "# Reorganize ATL06 data into pairs\n",
    "def to_pairs(D6):\n",
    "    _, crp_dict = pc.unique_by_rows(np.c_[D6.cycle, D6.rgt, D6.pair], return_dict=True)\n",
    "\n",
    "    pair_data=[]\n",
    "    for crp, ii in crp_dict.items():\n",
    "        D6sub = D6[ii]\n",
    "        useg = np.unique(D6sub.segment_id)\n",
    "        D_pair = pc.data().from_dict({field:np.zeros((len(useg), 2))+np.nan for field in D6.fields})\n",
    "        for beam in [0., 1.]:\n",
    "            D6sub1 = D6sub[D6sub.beam==beam]\n",
    "            ii =np.searchsorted(useg, D6sub1.segment_id)\n",
    "            for field in D6.fields:\n",
    "                getattr(D_pair, field)[ii, int(beam)]=getattr(D6sub1, field)\n",
    "        pair_data += [D_pair]\n",
    "    return pair_data"
   ]
  },
  {
   "cell_type": "code",
   "execution_count": 5,
   "id": "9372558f-3c61-449b-9164-538ab43528aa",
   "metadata": {},
   "outputs": [],
   "source": [
    "def assign_ATL06_fields(D6, sigma_geo_xy=3.5, sigma_geo_r = 0.03):\n",
    "    D6.assign(dh_fit_dy = np.tile(((D6.z[:,1]-D6.z[:,0])/(D6.y_atc[:,1]-D6.y_atc[:,0]))[:, None], [1, 2]))\n",
    "    D6.assign(dh_fit_dy_sigma = D6.h_li_sigma*np.sqrt(2)/90)\n",
    "    slope_mag = np.sqrt(D6.dh_fit_dx**2+D6.dh_fit_dy**2)\n",
    "\n",
    "    D6.assign(dh_geoloc = slope_mag*np.sqrt(D6.sigma_geo_xt**2+D6.sigma_geo_at**2))\n",
    "    D6.assign(h_li=D6.z, \n",
    "              delta_time = D6.t *24*3600*365.25, \n",
    "             h_li_sigma = 0.6/np.sqrt(57)+np.zeros_like(D6.x), \n",
    "              h_rms_misfit = 0.16 +np.ones_like(D6.x),\n",
    "             cycle_number=D6.cycle.astype(int), \n",
    "             BP=D6.pair,\n",
    "             atl06_quality_summary=np.zeros_like(D6.x), \n",
    "             sigma_geo_xt = np.zeros_like(D6.x)+sigma_geo_xy,\n",
    "             sigma_geo_at = np.zeros_like(D6.x) + sigma_geo_xy,\n",
    "             sigma_geo_r = np.zeros_like(D6.x) + sigma_geo_r,\n",
    "            sigma_geo_h = D6.dh_geoloc.copy(),\n",
    "             r_eff = np.ones_like(D6.x), \n",
    "             )\n",
    "    D6.assign({field:np.zeros_like(D6.x) for field in ['bsnow_h', 'bsnow_conf', \n",
    "                                                   'cloud_flg_asr','cloud_flg_atm',\n",
    "                                                   'tide_ocean','dac','snr_significance',\n",
    "                                                  'signal_selection_source','geoid_h',\n",
    "                                                  'geoid_free2mean']})\n",
    "\n"
   ]
  },
  {
   "cell_type": "code",
   "execution_count": 8,
   "id": "a614112c-c0a3-4c5b-b10b-c4a37ca22fb3",
   "metadata": {},
   "outputs": [],
   "source": [
    "def make_sim_ATL11_data(data, cycles=None, D11_root=None, subregion=0):\n",
    "\n",
    "    if cycles is None:\n",
    "        cycles = [np.min(data.cycle.astype(int)), np.max(data.cycle.astype(int))]\n",
    "    \n",
    "    _, rp_dict = pc.unique_by_rows(np.c_[data.rgt, data.pair], return_dict=True)\n",
    "\n",
    "    D11_list=[]\n",
    "    for rp, ii in rp_dict.items():\n",
    "        D6 = data[ii]\n",
    "        \n",
    "        ref_pt_numbers = np.unique(np.round(D6.segment_id/3)*3)\n",
    "        D6 = pc.data(columns=2).from_list(to_pairs(D6))\n",
    "        assign_ATL06_fields(D6)\n",
    "        _, ref_pt_numbers, ref_pt_x = ATL11.select_ATL06_data(D6)\n",
    "        D11_pts = ATL11.data().from_ATL06(D6, beam_pair=rp[1], cycles=cycles, \n",
    "                                      ref_pt_numbers=ref_pt_numbers, ref_pt_x=ref_pt_x, hemisphere=1)\n",
    "        \n",
    "        D11=ATL11.data(from_list(D11_pts))\n",
    "        D11.track_num, D11.beam_pair = rp\n",
    "        setattr(D11.cycle_stats,'cycle_number',list(range(cycles[0],cycles[1]+1)))\n",
    "        setattr(D11.ROOT,'cycle_number',list(range(cycles[0],cycles[1]+1)))\n",
    "\n",
    "        if D11_root is not None:\n",
    "            if not os.path.isfile(D11_root):\n",
    "                os.mkdir(D11_root)\n",
    "            D11_filename = f'ATL11_{rp[0]:%02d}{subregion:%02d}_{cycles[0]:%02d}{cycles[1]:%02d}_999_99.h5'\n",
    "            D11.write_to_file(os.path.join(D11_root, D11_filename))\n",
    "        else:\n",
    "            D11_list += [to_pc(D11)]\n",
    "\n",
    "    if D11_root is None:\n",
    "        return D11_list\n",
    "    else:\n",
    "        return None\n"
   ]
  },
  {
   "cell_type": "code",
   "execution_count": null,
   "id": "0a4c6312-74f4-4b18-a46a-ec9def694929",
   "metadata": {},
   "outputs": [],
   "source": []
  },
  {
   "cell_type": "code",
   "execution_count": null,
   "id": "58aa80b0-dbf6-4fdc-9fac-2b2f13e66e9c",
   "metadata": {},
   "outputs": [],
   "source": []
  },
  {
   "cell_type": "code",
   "execution_count": null,
   "id": "d79cc8af-c6c4-4ed4-a3a4-bf2dbda5a2f7",
   "metadata": {},
   "outputs": [],
   "source": []
  },
  {
   "cell_type": "code",
   "execution_count": null,
   "id": "a5cde865-9a2f-411a-ab40-40ce166be722",
   "metadata": {},
   "outputs": [],
   "source": []
  }
 ],
 "metadata": {
  "kernelspec": {
   "display_name": "devel",
   "language": "python",
   "name": "devel"
  },
  "language_info": {
   "codemirror_mode": {
    "name": "ipython",
    "version": 3
   },
   "file_extension": ".py",
   "mimetype": "text/x-python",
   "name": "python",
   "nbconvert_exporter": "python",
   "pygments_lexer": "ipython3",
   "version": "3.11.6"
  }
 },
 "nbformat": 4,
 "nbformat_minor": 5
}
