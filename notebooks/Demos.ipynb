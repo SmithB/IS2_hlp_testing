{
 "cells": [
  {
   "cell_type": "code",
   "execution_count": 1,
   "id": "5c93a9db-5eee-4318-9baa-98a32927433c",
   "metadata": {},
   "outputs": [],
   "source": [
    "import numpy as np\n",
    "import pointCollection as pc\n",
    "import matplotlib.pyplot as plt\n",
    "from make_sim_along_track import make_sim_tracks, apply_errors, apply_shifts\n",
    "%load_ext autoreload\n",
    "%autoreload 2\n",
    "%matplotlib widget"
   ]
  },
  {
   "cell_type": "code",
   "execution_count": null,
   "id": "f338bd4a-10a3-4bb3-a5ca-c636ec0d513b",
   "metadata": {},
   "outputs": [],
   "source": [
    "xy0 = [-160000, -2170000]\n"
   ]
  },
  {
   "cell_type": "code",
   "execution_count": null,
   "id": "068a0081-e7c0-499d-8129-3cc6f19e2dc9",
   "metadata": {},
   "outputs": [],
   "source": [
    "# make tracks, shift by RGT pointing error\n",
    "xy0 = [-160000, -2170000]\n",
    "D=make_sim_tracks(EPSG=3413, x_0=xy0[0], y_0=xy0[1], product='ATL06',\n",
    "                  t_unit='year')\n",
    "apply_shifts(\n",
    "    D,\n",
    "    ['rgt','cycle'], 10, update_yatc=True);\n"
   ]
  },
  {
   "cell_type": "code",
   "execution_count": null,
   "id": "2bb004f7-9d2f-41bc-ac06-56f76f42de02",
   "metadata": {},
   "outputs": [],
   "source": [
    "def z_plane(D, mean_slope=0.1, xy0=[0,0] ):\n",
    "    return (D.x-xy0[0])*mean_slope\n",
    "z_fn = z_plane\n",
    "z_args = {'mean_slope':0.1, 'xy0':xy0}\n",
    "sigma={'geoloc':3.5,'r':0.03,'z_corr':0.03,'z_uncorr':0.15/np.sqrt(57)}\n",
    "data=apply_errors(D, z_fn = z_plane, z_args=z_args, sigma=sigma)"
   ]
  },
  {
   "cell_type": "code",
   "execution_count": null,
   "id": "cc8d783e-99d3-4da1-9ed3-0e32dbe3aeb2",
   "metadata": {},
   "outputs": [],
   "source": [
    "plt.figure()\n",
    "plt.colorbar(\n",
    "    plt.scatter(data.x[::5], data.y[::5],2, \n",
    "                c=data.z[::5] - z_plane(data[::5], **z_args), cmap='RdBu'))"
   ]
  },
  {
   "cell_type": "code",
   "execution_count": null,
   "id": "e5e3bcd4-372a-4043-8bdb-5894c6e0635b",
   "metadata": {},
   "outputs": [],
   "source": [
    "plt.figure()\n",
    "plt.hist(data.z[::5] - z_plane(data[::5], **z_args), 50);"
   ]
  },
  {
   "cell_type": "code",
   "execution_count": null,
   "id": "ea4751c3-2fe3-451e-9474-4351b64c31fb",
   "metadata": {},
   "outputs": [],
   "source": [
    "data.get_xy(EPSG=3413)"
   ]
  },
  {
   "cell_type": "code",
   "execution_count": null,
   "id": "3846a7a6-f77d-4ec4-a8c0-b5d11627fcd1",
   "metadata": {},
   "outputs": [],
   "source": []
  },
  {
   "cell_type": "code",
   "execution_count": null,
   "id": "97101b12-c7dc-47c3-8a5f-b7c01cad7105",
   "metadata": {},
   "outputs": [],
   "source": [
    "from LSsurf.smooth_fit import smooth_fit\n",
    "\n",
    "# ATL14 parameters\n",
    "E_d3zdx2dt=0.0001\n",
    "E_d2z0dx2=0.06\n",
    "E_d2zdt2=5000\n",
    "\n",
    "cycle_range=[np.min(data.cycle), np.max(data.cycle)]\n",
    "bias_params=None\n",
    "data.assign({'sigma':np.zeros_like(data.z)+0.1})\n",
    "\n",
    "data_nobias=data.copy()\n",
    "\n",
    "ctr={'x':xy0[0],'y':xy0[1],'t':np.mean(cycle_range)*0.25}\n",
    "W={'x':2.e4,'y':2.e4,'t':np.diff(cycle_range)*0.25}\n",
    "spacing={'z0':100, 'dz':500, 'dt':0.25}\n",
    "\n",
    "data_gap_scale=2500\n",
    "E_RMS={'d2z0_dx2':E_d2z0dx2, 'dz0_dx':E_d2z0dx2*data_gap_scale, 'd3z_dx2dt':E_d3zdx2dt, 'd2z_dxdt':E_d3zdx2dt*data_gap_scale,  'd2z_dt2':E_d2zdt2}\n",
    "\n",
    "# run the fit with no bias params\n",
    "S_nobias=smooth_fit(data=data_nobias[::5], ctr=ctr, W=W, spacing=spacing, E_RMS=E_RMS,\n",
    "             reference_epoch=5, compute_E=False,\n",
    "             max_iterations=1,\n",
    "             bias_params=None,\n",
    "             VERBOSE=True, dzdt_lags=[1])\n",
    "\n",
    "bias_params=['cycle','rgt']\n",
    "data.assign({'sigma_corr':np.zeros_like(data.z)+((z_args['mean_slope']*sigma['geoloc'])**2+0.03**2)**0.5})\n",
    "\n",
    "# run the fit with bias params\n",
    "S_bias=smooth_fit(data=data[::5], ctr=ctr, W=W, spacing=spacing, E_RMS=E_RMS,\n",
    "             reference_epoch=5, compute_E=False,\n",
    "             max_iterations=1,\n",
    "             bias_params=bias_params,\n",
    "             VERBOSE=True, dzdt_lags=[1])\n"
   ]
  },
  {
   "cell_type": "code",
   "execution_count": null,
   "id": "3d11bcce-e5e8-4739-8351-9ba90231f04e",
   "metadata": {},
   "outputs": [],
   "source": [
    "bias_params=['cycle','rgt']\n",
    "data.assign({'sigma_corr':np.zeros_like(data.z)+((z_args['mean_slope']*sigma['geoloc'])**2+0.03**2)**0.5})\n",
    "\n",
    "# run the fit with bias params\n",
    "S_bias=smooth_fit(data=data[::5], ctr=ctr, W=W, spacing=spacing, E_RMS=E_RMS,\n",
    "             reference_epoch=5, compute_E=False,\n",
    "             max_iterations=1,\n",
    "             bias_params=bias_params,\n",
    "             VERBOSE=True, dzdt_lags=[1])\n"
   ]
  },
  {
   "cell_type": "code",
   "execution_count": null,
   "id": "e5e2cbaa-82d2-44cb-8e4f-bdb6eab71def",
   "metadata": {},
   "outputs": [],
   "source": [
    "\n",
    "hf, hax=plt.subplots(1, 2)\n",
    "hax[0].imshow(np.std(S_nobias['m']['dz'].dz, axis=2), clim=[0, 0.5])\n",
    "hax[1].imshow(np.std(S_bias['m']['dz'].dz, axis=2), clim=[0, 0.5])\n"
   ]
  },
  {
   "cell_type": "code",
   "execution_count": null,
   "id": "13812e07-8d5d-47f0-972f-080ccbdc261c",
   "metadata": {},
   "outputs": [],
   "source": []
  }
 ],
 "metadata": {
  "kernelspec": {
   "display_name": "devel",
   "language": "python",
   "name": "devel"
  },
  "language_info": {
   "codemirror_mode": {
    "name": "ipython",
    "version": 3
   },
   "file_extension": ".py",
   "mimetype": "text/x-python",
   "name": "python",
   "nbconvert_exporter": "python",
   "pygments_lexer": "ipython3",
   "version": "3.11.6"
  }
 },
 "nbformat": 4,
 "nbformat_minor": 5
}
